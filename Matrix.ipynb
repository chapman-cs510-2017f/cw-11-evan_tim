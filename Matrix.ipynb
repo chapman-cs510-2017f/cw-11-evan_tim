{
 "cells": [
  {
   "cell_type": "code",
   "execution_count": 0,
   "metadata": {
    "collapsed": false
   },
   "outputs": [
   ],
   "source": [
    "# Matrix Type in C #"
   ]
  },
  {
   "cell_type": "code",
   "execution_count": 0,
   "metadata": {
    "collapsed": false
   },
   "outputs": [
   ],
   "source": [
    "The Matrix class has a constructor to implement its variables, which are rows, cols."
   ]
  },
  {
   "cell_type": "markdown",
   "metadata": {
    "collapsed": false
   },
   "source": [
    "Has methods,\n",
    "```C\n",
    "// Constructor that initializes type in sensible way\n",
    "MATRIX new_matrix(const MINDEX, const MINDEX);\n",
    "// Destructor for allocated memory\n",
    "void delete_matrix(MATRIX);\n",
    "// Setter for individual elements\n",
    "void mset(MATRIX *, const MINDEX, const MINDEX, const MVALUE);\n",
    "// Getter for individual elements\n",
    "MVALUE mget(const MATRIX *, const MINDEX, const MINDEX);\n",
    "// Abstraction layer for printing values\n",
    "void print_value(const MVALUE);\n",
    "// Abstraction layer for printing matrices\n",
    "void print_matrix(const MATRIX *);\n",
    "// Addition of two matrices\n",
    "MATRIX add_matrix(const MATRIX *, const MATRIX *);\n",
    "```"
   ]
  },
  {
   "cell_type": "raw",
   "metadata": {
    "collapsed": false
   },
   "source": [
    "* The first of which is a constructor. \n",
    "* Then delete_matrix frees the memory that was allocated for the matrix taking only only one argument which is a matrix data structure. \n",
    "* mset takes in a matrix, a row, and col and a value, then changes the value in that spot to the value from the input. \n",
    "* mget takes in a matrix, a row and a col, and returns mvalue, the value at that specific spot. \n",
    "* print_value prints an argument mvalue. \n",
    "* "
   ]
  }
 ],
 "metadata": {
  "kernelspec": {
   "display_name": "Python 3 (Anaconda)",
   "language": "python",
   "name": "anaconda3"
  },
  "language_info": {
   "codemirror_mode": {
    "name": "ipython",
    "version": 3
   },
   "file_extension": ".py",
   "mimetype": "text/x-python",
   "name": "python",
   "nbconvert_exporter": "python",
   "pygments_lexer": "ipython3",
   "version": "3.5.4"
  }
 },
 "nbformat": 4,
 "nbformat_minor": 0
}